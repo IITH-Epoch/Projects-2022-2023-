{
 "cells": [
  {
   "cell_type": "markdown",
   "metadata": {},
   "source": [
    "## Initialize Stockfish class"
   ]
  },
  {
   "cell_type": "code",
   "execution_count": 1,
   "metadata": {},
   "outputs": [
    {
     "data": {
      "text/plain": [
       "{'Debug Log File': '',\n",
       " 'Contempt': 0,\n",
       " 'Min Split Depth': 0,\n",
       " 'Ponder': 'false',\n",
       " 'MultiPV': 1,\n",
       " 'Skill Level': 20,\n",
       " 'Move Overhead': 10,\n",
       " 'Minimum Thinking Time': 20,\n",
       " 'Slow Mover': 100,\n",
       " 'UCI_Chess960': 'false',\n",
       " 'UCI_LimitStrength': 'false',\n",
       " 'UCI_Elo': 1350,\n",
       " 'Threads': 1,\n",
       " 'Hash': 16}"
      ]
     },
     "execution_count": 1,
     "metadata": {},
     "output_type": "execute_result"
    }
   ],
   "source": [
    "from stockfish import Stockfish\n",
    "\n",
    "# stockfish = Stockfish(path=\"/usr/share/doc/stockfish\")\n",
    "stockfish = Stockfish()\n",
    "stockfish.get_parameters()"
   ]
  },
  {
   "cell_type": "code",
   "execution_count": 50,
   "metadata": {},
   "outputs": [],
   "source": [
    "# Set the position\n",
    "stockfish.set_position([\"e2e4\", \"e7e6\"])"
   ]
  },
  {
   "cell_type": "code",
   "execution_count": 2,
   "metadata": {},
   "outputs": [
    {
     "data": {
      "text/plain": [
       "'+---+---+---+---+---+---+---+---+\\n| r | n | b | q | k | b | n | r | 8\\n+---+---+---+---+---+---+---+---+\\n| p | p | p | p | p | p | p | p | 7\\n+---+---+---+---+---+---+---+---+\\n|   |   |   |   |   |   |   |   | 6\\n+---+---+---+---+---+---+---+---+\\n|   |   |   |   |   |   |   |   | 5\\n+---+---+---+---+---+---+---+---+\\n|   |   |   |   |   |   |   |   | 4\\n+---+---+---+---+---+---+---+---+\\n|   |   |   |   |   |   |   |   | 3\\n+---+---+---+---+---+---+---+---+\\n| P | P | P | P | P | P | P | P | 2\\n+---+---+---+---+---+---+---+---+\\n| R | N | B | Q | K | B | N | R | 1\\n+---+---+---+---+---+---+---+---+\\n  a   b   c   d   e   f   g   h\\n'"
      ]
     },
     "execution_count": 2,
     "metadata": {},
     "output_type": "execute_result"
    }
   ],
   "source": [
    "# Get the borad visual\n",
    "stockfish.get_board_visual()"
   ]
  },
  {
   "cell_type": "code",
   "execution_count": 54,
   "metadata": {},
   "outputs": [
    {
     "name": "stdout",
     "output_type": "stream",
     "text": [
      "+---+---+---+---+---+---+---+---+\n",
      "| r | n | b | q | k | b | n | r | 8\n",
      "+---+---+---+---+---+---+---+---+\n",
      "| p | p | p |   |   | p | p | p | 7\n",
      "+---+---+---+---+---+---+---+---+\n",
      "|   |   |   |   | p |   |   |   | 6\n",
      "+---+---+---+---+---+---+---+---+\n",
      "|   |   |   | p |   |   |   |   | 5\n",
      "+---+---+---+---+---+---+---+---+\n",
      "|   |   |   | P | P |   |   |   | 4\n",
      "+---+---+---+---+---+---+---+---+\n",
      "|   |   | N |   |   |   |   |   | 3\n",
      "+---+---+---+---+---+---+---+---+\n",
      "| P | P | P |   |   | P | P | P | 2\n",
      "+---+---+---+---+---+---+---+---+\n",
      "| R |   | B | Q | K | B | N | R | 1\n",
      "+---+---+---+---+---+---+---+---+\n",
      "  a   b   c   d   e   f   g   h\n",
      "\n"
     ]
    }
   ],
   "source": [
    "# make best move and get the borad visual\n",
    "stockfish.make_moves_from_current_position([stockfish.get_best_move()])\n",
    "print(stockfish.get_board_visual())"
   ]
  },
  {
   "cell_type": "code",
   "execution_count": 12,
   "metadata": {},
   "outputs": [],
   "source": [
    "import cv2\n",
    "img = cv2.imread('../download.png')\n",
    "img = cv2.resize(img, (512, 512))"
   ]
  },
  {
   "cell_type": "code",
   "execution_count": 16,
   "metadata": {},
   "outputs": [],
   "source": [
    "out = []\n",
    "for i in range(8):\n",
    "    temp = []\n",
    "    for j in range(8):\n",
    "        temp.append(img[i*64:(i+1)*64,j*64:(j+1)*64])\n",
    "    out.append(temp)"
   ]
  },
  {
   "cell_type": "code",
   "execution_count": 17,
   "metadata": {},
   "outputs": [
    {
     "data": {
      "text/plain": [
       "(64, 64, 3)"
      ]
     },
     "execution_count": 17,
     "metadata": {},
     "output_type": "execute_result"
    }
   ],
   "source": [
    "out[0][0].shape"
   ]
  },
  {
   "cell_type": "code",
   "execution_count": 21,
   "metadata": {},
   "outputs": [
    {
     "data": {
      "text/plain": [
       "113"
      ]
     },
     "execution_count": 21,
     "metadata": {},
     "output_type": "execute_result"
    }
   ],
   "source": [
    "img1 = out[6][7]\n",
    "cv2.imshow(\"image\",img1)\n",
    "cv2.waitKey(100000)"
   ]
  },
  {
   "cell_type": "code",
   "execution_count": null,
   "metadata": {},
   "outputs": [],
   "source": []
  }
 ],
 "metadata": {
  "kernelspec": {
   "display_name": "Python 3 (ipykernel)",
   "language": "python",
   "name": "python3"
  },
  "language_info": {
   "codemirror_mode": {
    "name": "ipython",
    "version": 3
   },
   "file_extension": ".py",
   "mimetype": "text/x-python",
   "name": "python",
   "nbconvert_exporter": "python",
   "pygments_lexer": "ipython3",
   "version": "3.10.6"
  }
 },
 "nbformat": 4,
 "nbformat_minor": 2
}
