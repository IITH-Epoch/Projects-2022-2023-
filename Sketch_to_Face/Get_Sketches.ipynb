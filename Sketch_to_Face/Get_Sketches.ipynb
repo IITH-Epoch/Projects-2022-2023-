{
 "cells": [
  {
   "cell_type": "code",
   "execution_count": 3,
   "id": "9686ea79",
   "metadata": {},
   "outputs": [],
   "source": [
    "import cv2\n",
    "import matplotlib.pyplot as plt\n",
    "import matplotlib\n",
    "import os\n",
    "import shutil\n",
    "import glob\n",
    "from tqdm import tqdm"
   ]
  },
  {
   "cell_type": "code",
   "execution_count": 6,
   "id": "10a25608",
   "metadata": {},
   "outputs": [],
   "source": [
    "def dodgeV2(image, mask):\n",
    "    return cv2.divide(image, 255-mask, scale=256)"
   ]
  },
  {
   "cell_type": "code",
   "execution_count": 7,
   "id": "e055d7fa",
   "metadata": {},
   "outputs": [],
   "source": [
    "def img_to_sketch(img_path, sketch_path):\n",
    "    for img in tqdm(glob.glob(img_path + '/*')):\n",
    "        s = img.split('/')[-1]\n",
    "        img_rgb = cv2.imread(img)\n",
    "        img_gray = cv2.cvtColor(img_rgb, cv2.COLOR_BGR2GRAY)\n",
    "        img_gray_inv = 255 - img_gray\n",
    "        img_blur = cv2.GaussianBlur(img_gray_inv, ksize=(21, 21),sigmaX=0, sigmaY=0)\n",
    "        img_blend = dodgeV2(img_gray, img_blur)\n",
    "        matplotlib.image.imsave(sketch_path + '/' + s, img_blend,cmap='gray')"
   ]
  },
  {
   "cell_type": "code",
   "execution_count": 8,
   "id": "c1fb4f81",
   "metadata": {},
   "outputs": [
    {
     "name": "stderr",
     "output_type": "stream",
     "text": [
      "100%|███████████████████████████████████████| 1440/1440 [09:20<00:00,  2.57it/s]\n"
     ]
    }
   ],
   "source": [
    "img_to_sketch('Data/Face', 'Data/Sketch')"
   ]
  },
  {
   "cell_type": "code",
   "execution_count": null,
   "id": "b7cb7bf6",
   "metadata": {},
   "outputs": [],
   "source": []
  }
 ],
 "metadata": {
  "kernelspec": {
   "display_name": "Python 3 (ipykernel)",
   "language": "python",
   "name": "python3"
  },
  "language_info": {
   "codemirror_mode": {
    "name": "ipython",
    "version": 3
   },
   "file_extension": ".py",
   "mimetype": "text/x-python",
   "name": "python",
   "nbconvert_exporter": "python",
   "pygments_lexer": "ipython3",
   "version": "3.9.13"
  }
 },
 "nbformat": 4,
 "nbformat_minor": 5
}
