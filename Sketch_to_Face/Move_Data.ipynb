{
 "cells": [
  {
   "cell_type": "code",
   "execution_count": 23,
   "id": "243b25b2",
   "metadata": {},
   "outputs": [],
   "source": [
    "import os\n",
    "import shutil\n",
    "import glob\n",
    "from tqdm import tqdm"
   ]
  },
  {
   "cell_type": "code",
   "execution_count": 28,
   "id": "3108c495",
   "metadata": {},
   "outputs": [],
   "source": [
    "x = 0"
   ]
  },
  {
   "cell_type": "code",
   "execution_count": 29,
   "id": "bda2e6df",
   "metadata": {},
   "outputs": [
    {
     "name": "stderr",
     "output_type": "stream",
     "text": [
      "100%|███████████████████████████████████████| 598/598 [00:00<00:00, 1829.79it/s]\n"
     ]
    }
   ],
   "source": [
    "for i in tqdm(glob.glob(f'cfd/CFD_Version_3/Images/CFD/*')):\n",
    "    for j in glob.glob(i+'/*.jpg'):\n",
    "        x+=1;\n",
    "        shutil.move(j,f'Data/Face/')\n",
    "        s = j.split('/')\n",
    "        old_file = os.path.join('Data/Face/', s[-1])\n",
    "        new_file = os.path.join('Data/Face/', f'{x}.jpg')\n",
    "        os.rename(old_file, new_file)"
   ]
  },
  {
   "cell_type": "code",
   "execution_count": 31,
   "id": "0ba3a462",
   "metadata": {},
   "outputs": [
    {
     "name": "stderr",
     "output_type": "stream",
     "text": [
      "100%|███████████████████████████████████████| 145/145 [00:00<00:00, 5077.04it/s]\n"
     ]
    }
   ],
   "source": [
    "for i in tqdm(glob.glob(f'cfd/CFD_Version_3/Images/CFD-INDIA/*.jpg')):\n",
    "    x+=1;\n",
    "    shutil.move(i,f'Data/Face/')\n",
    "    s = i.split('/')\n",
    "    old_file = os.path.join('Data/Face/', s[-1])\n",
    "    new_file = os.path.join('Data/Face/', f'{x}.jpg')\n",
    "    os.rename(old_file, new_file)"
   ]
  },
  {
   "cell_type": "code",
   "execution_count": 32,
   "id": "115fd933",
   "metadata": {},
   "outputs": [
    {
     "name": "stderr",
     "output_type": "stream",
     "text": [
      "100%|█████████████████████████████████████████| 88/88 [00:00<00:00, 2398.91it/s]\n"
     ]
    }
   ],
   "source": [
    "for i in tqdm(glob.glob(f'cfd/CFD_Version_3/Images/CFD-MR/*.jpg')):\n",
    "    x+=1;\n",
    "    shutil.move(i,f'Data/Face/')\n",
    "    s = i.split('/')\n",
    "    old_file = os.path.join('Data/Face/', s[-1])\n",
    "    new_file = os.path.join('Data/Face/', f'{x}.jpg')\n",
    "    os.rename(old_file, new_file)"
   ]
  },
  {
   "cell_type": "code",
   "execution_count": null,
   "id": "8fe1dee2",
   "metadata": {},
   "outputs": [],
   "source": []
  }
 ],
 "metadata": {
  "kernelspec": {
   "display_name": "Python 3 (ipykernel)",
   "language": "python",
   "name": "python3"
  },
  "language_info": {
   "codemirror_mode": {
    "name": "ipython",
    "version": 3
   },
   "file_extension": ".py",
   "mimetype": "text/x-python",
   "name": "python",
   "nbconvert_exporter": "python",
   "pygments_lexer": "ipython3",
   "version": "3.9.12"
  }
 },
 "nbformat": 4,
 "nbformat_minor": 5
}
