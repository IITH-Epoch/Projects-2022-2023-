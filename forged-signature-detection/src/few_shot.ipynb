{
 "cells": [
  {
   "cell_type": "code",
   "execution_count": 2,
   "metadata": {},
   "outputs": [],
   "source": [
    "import numpy as np\n",
    "import torch\n",
    "import torch.nn as nn\n",
    "import torch.nn.functional as F\n",
    "from torch import optim\n",
    "import torchvision\n",
    "from torchvision import transforms\n",
    "from torchvision.transforms import ToTensor, ToPILImage\n",
    "from torchvision import datasets\n",
    "from torchvision import models\n",
    "from torch.utils.data.sampler import SubsetRandomSampler\n",
    "from torch.utils.data import DataLoader\n",
    "from tqdm import tqdm\n",
    "import matplotlib.pyplot as plt\n",
    "from collections import defaultdict\n",
    "import random\n",
    "from copy import deepcopy"
   ]
  },
  {
   "cell_type": "code",
   "execution_count": 3,
   "metadata": {},
   "outputs": [
    {
     "name": "stderr",
     "output_type": "stream",
     "text": [
      "  0%|          | 0/10 [00:00<?, ?it/s]"
     ]
    },
    {
     "name": "stdout",
     "output_type": "stream",
     "text": [
      "Loss: 0.4235815405845642\n"
     ]
    },
    {
     "name": "stderr",
     "output_type": "stream",
     "text": [
      " 10%|█         | 1/10 [00:10<01:31, 10.18s/it]"
     ]
    },
    {
     "name": "stdout",
     "output_type": "stream",
     "text": [
      "Testing accuracy: 0.9567\n",
      "Loss: 0.12916457653045654\n"
     ]
    },
    {
     "name": "stderr",
     "output_type": "stream",
     "text": [
      " 20%|██        | 2/10 [00:18<01:12,  9.10s/it]"
     ]
    },
    {
     "name": "stdout",
     "output_type": "stream",
     "text": [
      "Testing accuracy: 0.9657\n",
      "Loss: 0.09494631737470627\n"
     ]
    },
    {
     "name": "stderr",
     "output_type": "stream",
     "text": [
      " 30%|███       | 3/10 [00:27<01:01,  8.83s/it]"
     ]
    },
    {
     "name": "stdout",
     "output_type": "stream",
     "text": [
      "Testing accuracy: 0.9743\n",
      "Loss: 0.07881827652454376\n"
     ]
    },
    {
     "name": "stderr",
     "output_type": "stream",
     "text": [
      " 40%|████      | 4/10 [00:35<00:52,  8.68s/it]"
     ]
    },
    {
     "name": "stdout",
     "output_type": "stream",
     "text": [
      "Testing accuracy: 0.9758\n",
      "Loss: 0.06688041985034943\n"
     ]
    },
    {
     "name": "stderr",
     "output_type": "stream",
     "text": [
      " 50%|█████     | 5/10 [00:43<00:42,  8.58s/it]"
     ]
    },
    {
     "name": "stdout",
     "output_type": "stream",
     "text": [
      "Testing accuracy: 0.9775\n",
      "Loss: 0.05979124829173088\n"
     ]
    },
    {
     "name": "stderr",
     "output_type": "stream",
     "text": [
      " 60%|██████    | 6/10 [00:51<00:33,  8.35s/it]"
     ]
    },
    {
     "name": "stdout",
     "output_type": "stream",
     "text": [
      "Testing accuracy: 0.9818\n",
      "Loss: 0.05225615203380585\n"
     ]
    },
    {
     "name": "stderr",
     "output_type": "stream",
     "text": [
      " 70%|███████   | 7/10 [00:59<00:24,  8.16s/it]"
     ]
    },
    {
     "name": "stdout",
     "output_type": "stream",
     "text": [
      "Testing accuracy: 0.9807\n",
      "Loss: 0.04774440824985504\n"
     ]
    },
    {
     "name": "stderr",
     "output_type": "stream",
     "text": [
      " 80%|████████  | 8/10 [01:07<00:16,  8.01s/it]"
     ]
    },
    {
     "name": "stdout",
     "output_type": "stream",
     "text": [
      "Testing accuracy: 0.9774\n",
      "Loss: 0.0433792769908905\n"
     ]
    },
    {
     "name": "stderr",
     "output_type": "stream",
     "text": [
      " 90%|█████████ | 9/10 [01:14<00:07,  7.92s/it]"
     ]
    },
    {
     "name": "stdout",
     "output_type": "stream",
     "text": [
      "Testing accuracy: 0.9835\n",
      "Loss: 0.03995371609926224\n"
     ]
    },
    {
     "name": "stderr",
     "output_type": "stream",
     "text": [
      "100%|██████████| 10/10 [01:23<00:00,  8.35s/it]"
     ]
    },
    {
     "name": "stdout",
     "output_type": "stream",
     "text": [
      "Testing accuracy: 0.9846\n"
     ]
    },
    {
     "name": "stderr",
     "output_type": "stream",
     "text": [
      "\n"
     ]
    }
   ],
   "source": [
    "class cnn(nn.Module):\n",
    "    def __init__(self) -> None:\n",
    "        super(cnn, self).__init__()\n",
    "        self.conv1 = nn.Sequential(\n",
    "            nn.Conv2d(1, 8, 3, padding=1),\n",
    "            nn.MaxPool2d(2),\n",
    "            nn.ReLU())\n",
    "        self.conv2 = nn.Sequential(\n",
    "            nn.Conv2d(8, 8, 3, padding=1),\n",
    "            nn.MaxPool2d(2),\n",
    "            nn.ReLU())\n",
    "        self.flatten = nn.Flatten()\n",
    "        self.fc1 = nn.Sequential(\n",
    "            nn.Linear(7*7*8, 28),\n",
    "            nn.ReLU())\n",
    "        self.fc2 = nn.Linear(28, 10)\n",
    "\n",
    "    def forward(self, inp):\n",
    "        x = self.conv1(inp)\n",
    "        x = self.conv2(x)\n",
    "        x = self.flatten(x)\n",
    "        x = self.fc1(x)\n",
    "        return self.fc2(x)\n",
    "        \n",
    "\n",
    "\n",
    "train_dataset = datasets.MNIST(root='../data/', transform=transforms.ToTensor())\n",
    "test_dataset = datasets.MNIST(root='../data/', transform=transforms.ToTensor(), train=False)\n",
    "\n",
    "train = DataLoader(train_dataset, batch_size=64, shuffle=True)\n",
    "test = DataLoader(test_dataset, batch_size=64, shuffle=True)\n",
    "\n",
    "model = cnn()\n",
    "optimizer = optim.Adam(params=model.parameters())\n",
    "\n",
    "for i in tqdm(range(10)):\n",
    "    running_loss = 0\n",
    "    for x, y in train:\n",
    "        pred = model.forward(x)\n",
    "        loss = F.cross_entropy(pred, y)\n",
    "        optimizer.zero_grad()\n",
    "        loss.backward()\n",
    "        optimizer.step()\n",
    "        running_loss += loss\n",
    "    running_loss /= len(train)\n",
    "    print(f'Loss: {running_loss}')\n",
    "    correct = 0\n",
    "    for x, y in test:\n",
    "        pred = model.forward(x)\n",
    "        correct += (pred.argmax(1) == y).sum().item()\n",
    "    print(f'Testing accuracy: {correct/test_dataset.__len__()}')"
   ]
  },
  {
   "cell_type": "code",
   "execution_count": 4,
   "metadata": {},
   "outputs": [],
   "source": [
    "dataset = datasets.FashionMNIST(root='../data/', transform=transforms.ToTensor())"
   ]
  },
  {
   "cell_type": "code",
   "execution_count": 5,
   "metadata": {},
   "outputs": [],
   "source": [
    "images = defaultdict(list)\n",
    "\n",
    "counts = [4]*10\n",
    "for i in dataset:\n",
    "    if counts[i[1]]:\n",
    "        images[i[1]].append(i[0])\n",
    "        counts[i[1]] -= 1\n",
    "    if sum(counts)==0:\n",
    "        break"
   ]
  },
  {
   "cell_type": "code",
   "execution_count": 6,
   "metadata": {},
   "outputs": [
    {
     "name": "stderr",
     "output_type": "stream",
     "text": [
      "100%|██████████| 10000/10000 [00:15<00:00, 644.20it/s]\n"
     ]
    }
   ],
   "source": [
    "\n",
    "class siamese(nn.Module):\n",
    "    def __init__(self, embedding) -> None:\n",
    "        super(siamese, self).__init__()\n",
    "        self.embedding = embedding\n",
    "        self.fc = nn.Linear(10, 5)\n",
    "    \n",
    "    def forward(self, inp):\n",
    "        x = self.embedding.forward(inp)\n",
    "        return self.fc(x)\n",
    "\n",
    "model.requires_grad_(False)\n",
    "sim_model = siamese(model)\n",
    "optimizer = optim.Adam(params=sim_model.parameters())\n",
    "EPOCHS = 10000\n",
    "\n",
    "\n",
    "for i in tqdm(range(1, EPOCHS+1)):\n",
    "    true_class = random.randint(0, 9)\n",
    "    true_img1_idx = random.randint(0, 1)\n",
    "    true_img1 = images[true_class][true_img1_idx]\n",
    "    true_img2 = images[true_class][1-true_img1_idx]\n",
    "    false_img_idx = random.randint(0, 9)\n",
    "    while false_img_idx == true_img1_idx:\n",
    "        false_img_idx = random.randint(0, 9)\n",
    "    false_img = images[false_img_idx][random.randint(0, 1)]\n",
    "\n",
    "    out1 = sim_model(true_img1.unsqueeze(0))\n",
    "    out2 = sim_model(true_img2.unsqueeze(0))\n",
    "    out3 = sim_model(false_img.unsqueeze(0))\n",
    "\n",
    "    d_plus = F.mse_loss(out1, out2)**2\n",
    "    d_minus = F.mse_loss(out1, out3)**2\n",
    "    d = d_plus + 10 - d_minus\n",
    "    loss = F.relu(d)\n",
    "    optimizer.zero_grad()\n",
    "    loss.backward()\n",
    "    optimizer.step()\n"
   ]
  },
  {
   "cell_type": "code",
   "execution_count": 7,
   "metadata": {},
   "outputs": [
    {
     "name": "stdout",
     "output_type": "stream",
     "text": [
      "distance between True: 2.872373580932617\n",
      "distance between False: 41.127967834472656\n"
     ]
    }
   ],
   "source": [
    "img1 = images[2][2].unsqueeze(0)\n",
    "img2 = images[2][3].unsqueeze(0)\n",
    "img3 = images[5][2].unsqueeze(0)\n",
    "\n",
    "with torch.no_grad():\n",
    "    out1 = sim_model.forward(img1)\n",
    "    out2 = sim_model.forward(img2)\n",
    "    out3 = sim_model.forward(img3)\n",
    "    print(f'distance between True: {F.mse_loss(out1, out2)}')\n",
    "    print(f'distance between False: {F.mse_loss(out1, out3)}')"
   ]
  },
  {
   "cell_type": "markdown",
   "metadata": {},
   "source": [
    "# Fine-Tuning"
   ]
  },
  {
   "cell_type": "code",
   "execution_count": 8,
   "metadata": {},
   "outputs": [
    {
     "name": "stderr",
     "output_type": "stream",
     "text": [
      "100%|██████████| 10000/10000 [00:10<00:00, 974.60it/s]\n"
     ]
    }
   ],
   "source": [
    "model_copy = deepcopy(model)\n",
    "model_copy.fc2.requires_grad_(True)\n",
    "\n",
    "optimizer = optim.Adam(params=model_copy.parameters())\n",
    "\n",
    "for i in tqdm(range(1, EPOCHS+1)):\n",
    "    true_class = random.randint(0, 9)\n",
    "    true_img1_idx = random.randint(0, 1)\n",
    "    true_img1 = images[true_class][true_img1_idx]\n",
    "    true_img2 = images[true_class][1-true_img1_idx]\n",
    "    false_img_idx = random.randint(0, 9)\n",
    "    while false_img_idx == true_img1_idx:\n",
    "        false_img_idx = random.randint(0, 9)\n",
    "    false_img = images[false_img_idx][random.randint(0, 1)]\n",
    "\n",
    "    out1 = model_copy(true_img1.unsqueeze(0))\n",
    "    out2 = model_copy(true_img2.unsqueeze(0))\n",
    "    out3 = model_copy(false_img.unsqueeze(0))\n",
    "\n",
    "    d_plus = F.mse_loss(out1, out2)**2\n",
    "    d_minus = F.mse_loss(out1, out3)**2\n",
    "    d = d_plus + 10 - d_minus\n",
    "    loss = F.relu(d)\n",
    "    optimizer.zero_grad()\n",
    "    loss.backward()\n",
    "    optimizer.step()\n"
   ]
  },
  {
   "cell_type": "code",
   "execution_count": 9,
   "metadata": {},
   "outputs": [
    {
     "name": "stdout",
     "output_type": "stream",
     "text": [
      "distance between True: 6.500158786773682\n",
      "distance between False: 38.35658645629883\n"
     ]
    }
   ],
   "source": [
    "img1 = images[2][2].unsqueeze(0)\n",
    "img2 = images[2][3].unsqueeze(0)\n",
    "img3 = images[5][2].unsqueeze(0)\n",
    "\n",
    "with torch.no_grad():\n",
    "    out1 = model_copy.forward(img1)\n",
    "    out2 = model_copy.forward(img2)\n",
    "    out3 = model_copy.forward(img3)\n",
    "    print(f'distance between True: {F.mse_loss(out1, out2)}')\n",
    "    print(f'distance between False: {F.mse_loss(out1, out3)}')"
   ]
  },
  {
   "cell_type": "code",
   "execution_count": null,
   "metadata": {},
   "outputs": [],
   "source": []
  }
 ],
 "metadata": {
  "kernelspec": {
   "display_name": "Python 3",
   "language": "python",
   "name": "python3"
  },
  "language_info": {
   "codemirror_mode": {
    "name": "ipython",
    "version": 3
   },
   "file_extension": ".py",
   "mimetype": "text/x-python",
   "name": "python",
   "nbconvert_exporter": "python",
   "pygments_lexer": "ipython3",
   "version": "3.10.6 (main, Nov 14 2022, 16:10:14) [GCC 11.3.0]"
  },
  "orig_nbformat": 4,
  "vscode": {
   "interpreter": {
    "hash": "916dbcbb3f70747c44a77c7bcd40155683ae19c65e1c03b4aa3499c5328201f1"
   }
  }
 },
 "nbformat": 4,
 "nbformat_minor": 2
}
