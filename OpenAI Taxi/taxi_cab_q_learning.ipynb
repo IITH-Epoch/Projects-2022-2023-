{
 "cells": [
  {
   "cell_type": "markdown",
   "id": "ad4a3734",
   "metadata": {},
   "source": [
    "# Reinforcement Learning : SmartCab from OpenAI Gym"
   ]
  },
  {
   "cell_type": "markdown",
   "id": "ad0c1692",
   "metadata": {},
   "source": [
    "## Problem Statement (from Gym docs):\n",
    "\n",
    "\"There are four designated locations in the grid world indicated by R(ed), G(reen), Y(ellow), and B(lue). When the episode starts, the taxi starts off at a random square and the passenger is at a random location. The taxi drives to the passenger’s location, picks up the passenger, drives to the passenger’s destination (another one of the four specified locations), and then drops off the passenger. Once the passenger is dropped off, the episode ends.\""
   ]
  },
  {
   "cell_type": "markdown",
   "id": "abfaa1fd",
   "metadata": {},
   "source": [
    "## 1. Install all dependencies"
   ]
  },
  {
   "cell_type": "code",
   "execution_count": 1,
   "id": "c7ec18b7",
   "metadata": {},
   "outputs": [
    {
     "name": "stdout",
     "output_type": "stream",
     "text": [
      "Requirement already satisfied: cmake in c:\\users\\user\\appdata\\local\\programs\\python\\python310\\lib\\site-packages (3.24.3)\n",
      "Note: you may need to restart the kernel to use updated packages.\n"
     ]
    }
   ],
   "source": [
    "pip install cmake"
   ]
  },
  {
   "cell_type": "code",
   "execution_count": 2,
   "id": "5db08111",
   "metadata": {},
   "outputs": [
    {
     "name": "stdout",
     "output_type": "stream",
     "text": [
      "Requirement already satisfied: gym[atari] in c:\\users\\user\\appdata\\local\\programs\\python\\python310\\lib\\site-packages (0.21.0)\n",
      "Requirement already satisfied: numpy>=1.18.0 in c:\\users\\user\\appdata\\local\\programs\\python\\python310\\lib\\site-packages (from gym[atari]) (1.22.3)\n",
      "Requirement already satisfied: cloudpickle>=1.2.0 in c:\\users\\user\\appdata\\local\\programs\\python\\python310\\lib\\site-packages (from gym[atari]) (2.1.0)\n",
      "Requirement already satisfied: ale-py~=0.7.1 in c:\\users\\user\\appdata\\local\\programs\\python\\python310\\lib\\site-packages (from gym[atari]) (0.7.5)\n",
      "Requirement already satisfied: importlib-resources in c:\\users\\user\\appdata\\local\\programs\\python\\python310\\lib\\site-packages (from ale-py~=0.7.1->gym[atari]) (5.8.0)\n"
     ]
    }
   ],
   "source": [
    "!pip install gym[atari]"
   ]
  },
  {
   "cell_type": "code",
   "execution_count": 3,
   "id": "a43be3a3",
   "metadata": {},
   "outputs": [
    {
     "name": "stdout",
     "output_type": "stream",
     "text": [
      "Requirement already satisfied: scipy in c:\\users\\user\\appdata\\local\\programs\\python\\python310\\lib\\site-packages (1.8.1)\n",
      "Requirement already satisfied: numpy<1.25.0,>=1.17.3 in c:\\users\\user\\appdata\\local\\programs\\python\\python310\\lib\\site-packages (from scipy) (1.22.3)\n"
     ]
    }
   ],
   "source": [
    "!pip install scipy"
   ]
  },
  {
   "cell_type": "markdown",
   "id": "0810c032",
   "metadata": {},
   "source": [
    "## 2. Load the game environment"
   ]
  },
  {
   "cell_type": "code",
   "execution_count": 3,
   "id": "3d43cc10",
   "metadata": {},
   "outputs": [
    {
     "name": "stdout",
     "output_type": "stream",
     "text": [
      "+---------+\n",
      "|R: | : :G|\n",
      "| : | : : |\n",
      "|\u001b[43m \u001b[0m: : : : |\n",
      "| | : | : |\n",
      "|\u001b[35mY\u001b[0m| : |\u001b[34;1mB\u001b[0m: |\n",
      "+---------+\n",
      "\n"
     ]
    }
   ],
   "source": [
    "import gym\n",
    "\n",
    "env = gym.make(\"Taxi-v3\").env\n",
    "\n",
    "env.render()      # renders one frame of the environment"
   ]
  },
  {
   "cell_type": "code",
   "execution_count": 4,
   "id": "46ae6cc3",
   "metadata": {},
   "outputs": [
    {
     "name": "stdout",
     "output_type": "stream",
     "text": [
      "+---------+\n",
      "|\u001b[35mR\u001b[0m: | : :\u001b[34;1mG\u001b[0m|\n",
      "| : | : : |\n",
      "| : : : : |\n",
      "| | : | : |\n",
      "|Y| : |B:\u001b[43m \u001b[0m|\n",
      "+---------+\n",
      "\n",
      "Action Space Discrete(6)\n",
      "State Space Discrete(500)\n"
     ]
    }
   ],
   "source": [
    "env.reset() # reset the environment to a random initial state \n",
    "env.render()  # visualise our environment \n",
    "\n",
    "\n",
    "print(f\"Action Space {env.action_space}\")\n",
    "print(f\"State Space {(env.observation_space)}\")"
   ]
  },
  {
   "cell_type": "markdown",
   "id": "891092cb",
   "metadata": {},
   "source": [
    "## Encoding a random initial state for the consistency of illustration : -\n",
    " Out of all the 500 state space possible, I choose a random state and encode it and give it to the environment to render in Gym. In my case , the taxi at row 3, column 4, our passenger is at location 2, and our destination is location 3\n",
    "\n",
    "### Note: One may start with any random state and hence feel free to play around with the state "
   ]
  },
  {
   "cell_type": "code",
   "execution_count": 6,
   "id": "9d627b14",
   "metadata": {},
   "outputs": [
    {
     "name": "stdout",
     "output_type": "stream",
     "text": [
      "State: 391\n",
      "+---------+\n",
      "|R: | : :G|\n",
      "| : | : : |\n",
      "| : : : : |\n",
      "| | : | :\u001b[43m \u001b[0m|\n",
      "|\u001b[34;1mY\u001b[0m| : |\u001b[35mB\u001b[0m: |\n",
      "+---------+\n",
      "\n"
     ]
    }
   ],
   "source": [
    "# Passenger locations:                 Destinations :\n",
    "# 0: R(ed)                                0: R(ed)\n",
    "# 1: G(reen)                              1: G(reen)\n",
    "# 2: Y(ellow)                             2: Y(ellow)\n",
    "# 3: B(lue)                               3: B(lue)\n",
    "# 4: in taxi\n",
    "\n",
    "# Encoding the state of the above \n",
    "\n",
    "state = env.encode(3, 4, 2, 3) # (taxi_row, taxi_column, passenger_index, destination_index)\n",
    "print(\"State:\", state)\n",
    "\n",
    "env.s = state\n",
    "env.render()       # visualise the current environment"
   ]
  },
  {
   "cell_type": "markdown",
   "id": "e6547b57",
   "metadata": {},
   "source": [
    "### The Reward Table\n",
    " When the Taxi environment is created, there is an initial Reward table that's also created, called 'P'. We can think of it like a (states x actions) matrix\n",
    " \n",
    "###### -1 per step unless other reward is triggered.\n",
    "###### +20 delivering passenger.\n",
    "###### -10 executing “pickup” and “drop-off” actions illegally."
   ]
  },
  {
   "cell_type": "code",
   "execution_count": 7,
   "id": "ac90840b",
   "metadata": {},
   "outputs": [
    {
     "data": {
      "text/plain": [
       "{0: [(1.0, 491, -1, False)],\n",
       " 1: [(1.0, 291, -1, False)],\n",
       " 2: [(1.0, 391, -1, False)],\n",
       " 3: [(1.0, 371, -1, False)],\n",
       " 4: [(1.0, 391, -10, False)],\n",
       " 5: [(1.0, 391, -10, False)]}"
      ]
     },
     "execution_count": 7,
     "metadata": {},
     "output_type": "execute_result"
    }
   ],
   "source": [
    "env.P[state]  \n",
    "\n",
    "# Actions : There are 6 deterministic actions\n",
    "# 0: move south\n",
    "# 1: move north\n",
    "# 2: move east\n",
    "# 3: move west\n",
    "# 4: pickup passenger\n",
    "# 5: drop off passenger\n",
    "\n",
    "\n",
    "# {action: [(probability, nextstate, reward, done)]} "
   ]
  },
  {
   "cell_type": "markdown",
   "id": "6842e960",
   "metadata": {},
   "source": [
    "## Without Reinforcement Learning\n",
    "Run an infinite loop. Stop when one passenger reaches one destination (one episode), or in other words, when the received reward is 20 \n"
   ]
  },
  {
   "cell_type": "code",
   "execution_count": 8,
   "id": "9ff15b4e",
   "metadata": {},
   "outputs": [
    {
     "name": "stdout",
     "output_type": "stream",
     "text": [
      "Timesteps taken: 759\n",
      "Penalties incurred: 248\n",
      "Net rewards : -2970\n"
     ]
    }
   ],
   "source": [
    "env.s = state  # set environment to our illustration's state\n",
    "\n",
    "# To keep track of the number of actions/loops taken for a correct drop-off \n",
    "epochs = 0\n",
    "# Number of illegal pickup and drop-off actions to get a correct drop-off\n",
    "penalties = 0\n",
    "net_reward = 0\n",
    "\n",
    "frames = [] # for animation\n",
    "\n",
    "done = False\n",
    "\n",
    "while not done:\n",
    "    action = env.action_space.sample()           # take a random action\n",
    "    observation, reward, done, info = env.step(action)  # What the env returns in response to the random action taken \n",
    "\n",
    "    net_reward += reward\n",
    "    # -10 reward for illegal “pickup” and “drop-off” actions, deemed as penalty\n",
    "    if reward == -10:\n",
    "        penalties += 1\n",
    "    \n",
    "    \n",
    "    # Put each rendered frame into dictionary for animation(to be used later)\n",
    "    frames.append({\n",
    "        'frame': env.render(mode='ansi'),  \n",
    "        'state': observation,\n",
    "        'action': action,\n",
    "        'reward': reward\n",
    "        }\n",
    "    )\n",
    "\n",
    "    epochs += 1\n",
    "    \n",
    "   \n",
    "print(f\"Timesteps taken: {epochs}\")\n",
    "print(f\"Penalties incurred: {penalties}\")\n",
    "print(f\"Net rewards : {net_reward}\")"
   ]
  },
  {
   "cell_type": "markdown",
   "id": "039362e0",
   "metadata": {},
   "source": [
    "### Conclusion\n",
    " As we are taking random actions, it is quite obvious that our agent would'nt be a good one as can be seen, it takes thousands of timesteps and lot of wrong drop-offs to deliver just one passenger correctly.\n",
    "\n",
    "REASON : We are not learning from our mistakes, past experiences. The agent has no memory"
   ]
  },
  {
   "cell_type": "markdown",
   "id": "4a55af1b",
   "metadata": {},
   "source": [
    "### Visualising : -\n",
    "*Note* : The state we are working with has **Y(ellow) BLUE** colored, which implies it is the **pickup point**. While, The **B(lue) is VIOLET** colored which implies it is the **drop-off destination."
   ]
  },
  {
   "cell_type": "code",
   "execution_count": 9,
   "id": "02175c4c",
   "metadata": {},
   "outputs": [
    {
     "name": "stdout",
     "output_type": "stream",
     "text": [
      "+---------+\n",
      "|R: | : :G|\n",
      "| : | : : |\n",
      "| : : : : |\n",
      "| | : | : |\n",
      "|Y| : |\u001b[35m\u001b[34;1m\u001b[43mB\u001b[0m\u001b[0m\u001b[0m: |\n",
      "+---------+\n",
      "  (Dropoff)\n",
      "\n",
      "Timestep: 759\n",
      "State: 475\n",
      "Action: 5\n",
      "Reward: 20\n"
     ]
    }
   ],
   "source": [
    "\n",
    "from IPython.display import clear_output\n",
    "from time import sleep\n",
    "\n",
    "# print(frames[0]['frame'])\n",
    "\n",
    "def visualise_frames(frames):\n",
    "    for i, frame in enumerate(frames):\n",
    "        clear_output(wait=True)\n",
    "        print(frame['frame'])               # display a popup window (animation)\n",
    "        print(f\"Timestep: {i + 1}\")\n",
    "        print(f\"State: {frame['state']}\")\n",
    "        print(f\"Action: {frame['action']}\")\n",
    "        print(f\"Reward: {frame['reward']}\")\n",
    "        sleep(.05)\n",
    "        \n",
    "visualise_frames(frames)"
   ]
  },
  {
   "attachments": {
    "image.png": {
     "image/png": "[encoded data removed]"
    }
   },
   "cell_type": "markdown",
   "id": "f0ab9dd0",
   "metadata": {},
   "source": [
    "##  Q learning \n",
    "-  Q-learning lets the agent use the environment's rewards to learn, over time, the best action to take in a given state.\n",
    "\n",
    "-  Q-values stored in the Q table are indicative of how good the action was, taken from that state.\n",
    "\n",
    "- First, Q values are arbitrarily initialised , then regularly updated as the agent explores the environment and recieves different rewards for its action according to the equation:- \n",
    "![image.png](attachment:image.png)\n",
    "\n",
    "- Here, $\\alpha$ - learning rate , the extent to which our Q-values are being updated in every iteration.\n",
    "\n",
    "- $\\gamma$ - discount factor, higher value implies giving much importance to long-term rewards , a value of 0 means it considers only immediate reward (Greedy)\n",
    "\n"
   ]
  },
  {
   "cell_type": "markdown",
   "id": "da1044a9",
   "metadata": {},
   "source": [
    "### Creating the Q-table"
   ]
  },
  {
   "cell_type": "code",
   "execution_count": 5,
   "id": "d3a91b88",
   "metadata": {},
   "outputs": [],
   "source": [
    "import numpy as np\n",
    "\n",
    "# initialize the Q-table -> (state X action) matrix\n",
    "n_states = env.observation_space.n\n",
    "n_actions = env.action_space.n\n",
    "\n",
    "q_table = np.zeros([n_states, n_actions])"
   ]
  },
  {
   "cell_type": "markdown",
   "id": "5c867739",
   "metadata": {},
   "source": [
    "### Training"
   ]
  },
  {
   "cell_type": "code",
   "execution_count": 6,
   "id": "227011b9",
   "metadata": {},
   "outputs": [
    {
     "name": "stdout",
     "output_type": "stream",
     "text": [
      "Episode: 40000\n",
      "Training finished.\n",
      "\n",
      "CPU times: total: 22.2 s\n",
      "Wall time: 21.4 s\n"
     ]
    }
   ],
   "source": [
    "%%time  \n",
    "# print the wall time for the entire cell\n",
    "\"\"\"Training Algorithm\"\"\"\n",
    "\n",
    "import random\n",
    "from IPython.display import clear_output\n",
    "\n",
    "# Hyperparameters\n",
    "alpha = 0.1\n",
    "gamma = 0.6\n",
    "epsilon = 0.1\n",
    "\n",
    "# For plotting metrics\n",
    "all_epochs = []\n",
    "all_rewards = []\n",
    "all_penalties = []\n",
    "\n",
    "for i in range(1, 40001): #training for 40000 episodes\n",
    "    state = env.reset()\n",
    "\n",
    "    epochs, penalties, net_episode_reward, = 0, 0, 0\n",
    "    done = False\n",
    "    \n",
    "    while not done:\n",
    "        \n",
    "        # Deciding whether to exploit or explore :\n",
    "        if random.uniform(0, 1) < epsilon:  \n",
    "            action = env.action_space.sample() # Explore action space\n",
    "        else:\n",
    "            action = np.argmax(q_table[state]) # Exploit learned values\n",
    "\n",
    "        next_state, reward, done, info = env.step(action) \n",
    "        \n",
    "        net_episode_reward += reward \n",
    "        \n",
    "        old_q_value = q_table[state, action]\n",
    "        max_among_next = np.max(q_table[next_state])\n",
    "        \n",
    "        # updating the Q-values according to the equation\n",
    "        new_value = (1 - alpha) * old_q_value + alpha * (reward + gamma * max_among_next)\n",
    "        q_table[state, action] = new_value\n",
    "        \n",
    "\n",
    "        if reward == -10:\n",
    "            penalties += 1\n",
    "\n",
    "        state = next_state      # update the state\n",
    "        epochs += 1\n",
    "\n",
    "    \n",
    "    \n",
    "    # Plotting metrics:  Plots for penalties as a function of no of episodes trained\n",
    "    all_penalties.append(penalties)\n",
    "    all_rewards.append(net_episode_reward)\n",
    "    all_epochs.append(epochs)\n",
    "\n",
    "    \n",
    "    if i % 100 == 0:\n",
    "        clear_output(wait=True)\n",
    "        print(f\"Episode: {i}\")\n",
    "\n",
    "print(\"Training finished.\\n\")"
   ]
  },
  {
   "cell_type": "code",
   "execution_count": 7,
   "id": "62a3b16b",
   "metadata": {},
   "outputs": [
    {
     "data": {
      "image/png": "[encoded data removed]",
      "text/plain": [
       "<Figure size 720x216 with 2 Axes>"
      ]
     },
     "metadata": {
      "needs_background": "light"
     },
     "output_type": "display_data"
    },
    {
     "data": {
      "image/png": "[encoded data removed]",
      "text/plain": [
       "<Figure size 720x216 with 2 Axes>"
      ]
     },
     "metadata": {
      "needs_background": "light"
     },
     "output_type": "display_data"
    },
    {
     "data": {
      "image/png": "[encoded data removed]",
      "text/plain": [
       "<Figure size 720x201.6 with 2 Axes>"
      ]
     },
     "metadata": {
      "needs_background": "light"
     },
     "output_type": "display_data"
    }
   ],
   "source": [
    "# Plot for different Metrics as a function of no. of episodes trained\n",
    "%matplotlib inline\n",
    "\n",
    "import matplotlib.pyplot as plt\n",
    "import numpy as np\n",
    "\n",
    "x = np.linspace(1, 40000, 40000) \n",
    "fig, (ax1,ax2) = plt.subplots(1, 2, figsize=(10, 3), layout='constrained')\n",
    "ax2.plot(x, all_penalties,'r', label='penalty', linewidth=0.3, markersize=10)  # Plot some data on the axes.\n",
    "ax2.set_xlabel('No. of training episodes')  # Add an x-label to the axes.\n",
    "ax2.set_ylabel('Penalty')  # Add a y-label to the axes.\n",
    "ax2.set_ylim(0, 50)\n",
    "ax2.set_xlim(0, 5000)\n",
    "ax2.set_title(\"Zoomed version\")  # Add a title to the axes.\n",
    "ax2.legend();                 # Add a legend.\n",
    "\n",
    "\n",
    "ax1.plot(x, all_penalties, 'r', label='penalty')  # Plot some data on the axes.\n",
    "ax1.set_xlabel('No. of training episodes')  # Add an x-label to the axes.\n",
    "ax1.set_ylabel('Penalty')  # Add a y-label to the axes.\n",
    "ax1.set_title(\"Penalties Vs training episodes\")  # Add a title to the axes.\n",
    "ax1.legend();                 # Add a legend.\n",
    "\n",
    "plt.savefig('Plots/Penalty_vs_trainingEpisodes.png', bbox_inches='tight')\n",
    "\n",
    "fig, (ax1,ax2) = plt.subplots(1, 2, figsize=(10, 3), layout='constrained')\n",
    "ax2.plot(x, all_rewards,'g-', label='rewards', linewidth=0.2) # Plot some data on the axes.\n",
    "ax2.set_xlabel('No. of training episodes')  # Add an x-label to the axes.\n",
    "ax2.set_ylabel('Reward')  # Add a y-label to the axes.\n",
    "ax2.set_ylim(-500, 20)\n",
    "ax2.set_xlim(0, 5000)\n",
    "ax2.set_title(\"Zoomed version\")  # Add a title to the axes.\n",
    "ax2.legend();                 # Add a legend.\n",
    "\n",
    "ax1.plot(x, all_rewards,'g', label='rewards')  # Plot some data on the axes.\n",
    "ax1.set_xlabel('No. of training episodes')  # Add an x-label to the axes.\n",
    "ax1.set_ylabel('Episode Reward')  # Add a y-label to the axes.\n",
    "ax1.set_title(\"Reward Vs training episodes\")  # Add a title to the axes.\n",
    "ax1.legend();  \n",
    "plt.savefig('Plots/Reward_vs_trainingEpisodes.png', bbox_inches='tight')\n",
    "\n",
    "\n",
    "fig, (ax1,ax2) = plt.subplots(1, 2, figsize=(10, 2.8), layout='constrained')\n",
    "ax2.plot(x, all_epochs, label='epochs', linewidth=0.3)  # Plot some data on the axes.\n",
    "ax2.set_xlabel('No. of training episodes')  # Add an x-label to the axes.\n",
    "ax2.set_ylabel('Steps Required')  # Add a y-label to the axes.\n",
    "ax2.set_ylim(0, 500)\n",
    "ax2.set_xlim(0, 10000)\n",
    "ax2.set_title(\"Zoomed version\")  # Add a title to the axes.\n",
    "ax2.legend();                 # Add a legend.\n",
    "\n",
    "ax1.plot(x, all_epochs, label='epochs')  # Plot some data on the axes.\n",
    "ax1.set_xlabel('No. of training episodes')  # Add an x-label to the axes.\n",
    "ax1.set_ylabel('Steps Required')  # Add a y-label to the axes.\n",
    "ax1.set_title(\"Epoch Vs training episodes\")  # Add a title to the axes.\n",
    "ax1.legend();  \n",
    "plt.savefig('Plots/Epochs_vs_trainingEpisodes.png', bbox_inches='tight')\n",
    "\n"
   ]
  },
  {
   "cell_type": "code",
   "execution_count": 13,
   "id": "cb04f10d",
   "metadata": {},
   "outputs": [
    {
     "data": {
      "text/plain": [
       "array([-2.4916601 , -2.48942072, -2.49046816, -2.48942074, -9.48645214,\n",
       "       -7.30431007])"
      ]
     },
     "execution_count": 13,
     "metadata": {},
     "output_type": "execute_result"
    }
   ],
   "source": [
    "# Q-values at our illustration's state: \n",
    "state = 391\n",
    "q_table[state]"
   ]
  },
  {
   "cell_type": "markdown",
   "id": "26a5405c",
   "metadata": {},
   "source": [
    "### Evaluation of our model"
   ]
  },
  {
   "cell_type": "code",
   "execution_count": 19,
   "id": "81732840",
   "metadata": {},
   "outputs": [
    {
     "name": "stdout",
     "output_type": "stream",
     "text": [
      "Episode: 100\n",
      "[Evaluating Our trained Model]\n",
      "Results after 100 episodes:\n",
      "Average timesteps per episode: 12.96\n",
      "Average penalties per episode: 0.0\n",
      "Average reward per episode: 8.04\n"
     ]
    }
   ],
   "source": [
    "\"\"\"Evaluate agent's performance after Q-learning\"\"\"\n",
    "from IPython.display import clear_output\n",
    "\n",
    "env.seed(24)\n",
    "total_epochs, total_rewards,total_penalties = 0, 0, 0\n",
    "episodes = 100                 \n",
    "list_of_frames = []            # to visualise\n",
    "\n",
    "\n",
    "for i in range(episodes):\n",
    "    clear_output(wait=True)\n",
    "    print(f\"Episode: {i+1}\")\n",
    "    observation = env.reset()\n",
    "    epochs, penalties, episode_reward = 0, 0, 0\n",
    "    \n",
    "    frames = []\n",
    "    done = False\n",
    "    \n",
    "    while not done:\n",
    "        action = np.argmax(q_table[observation])\n",
    "        observation, reward, done, info = env.step(action)\n",
    "\n",
    "        if reward == -10:\n",
    "            penalties += 1\n",
    "\n",
    "    # Put each rendered frame into dictionary for animation(to be used later)\n",
    "        frames.append({\n",
    "            'frame': env.render(mode='ansi'),  \n",
    "            'state': observation,\n",
    "            'action': action,\n",
    "            'reward': reward\n",
    "            }\n",
    "        )\n",
    "        \n",
    "        epochs += 1\n",
    "        episode_reward += reward\n",
    "\n",
    "    list_of_frames.append(frames)\n",
    "    total_rewards += episode_reward\n",
    "    total_penalties += penalties\n",
    "    total_epochs += epochs\n",
    "\n",
    "    \n",
    "print(\"[Evaluating Our trained Model]\")\n",
    "print(f\"Results after {episodes} episodes:\")\n",
    "print(f\"Average timesteps per episode: {total_epochs / episodes}\")\n",
    "print(f\"Average penalties per episode: {total_penalties / episodes}\")\n",
    "print(f\"Average reward per episode: {total_rewards / episodes}\")\n"
   ]
  },
  {
   "cell_type": "markdown",
   "id": "12528f3f",
   "metadata": {},
   "source": [
    "### Visualising our trained-model's performance (Evaluating)"
   ]
  },
  {
   "cell_type": "code",
   "execution_count": 83,
   "id": "4fa74083",
   "metadata": {},
   "outputs": [
    {
     "name": "stdout",
     "output_type": "stream",
     "text": [
      "Dropping off Passenger number :10\n",
      "+---------+\n",
      "|\u001b[35m\u001b[34;1m\u001b[43mR\u001b[0m\u001b[0m\u001b[0m: | : :G|\n",
      "| : | : : |\n",
      "| : : : : |\n",
      "| | : | : |\n",
      "|Y| : |B: |\n",
      "+---------+\n",
      "  (Dropoff)\n",
      "\n",
      "Timestep: 16\n",
      "State: 0\n",
      "Action: 5\n",
      "Reward: 20\n"
     ]
    }
   ],
   "source": [
    "from IPython.display import clear_output\n",
    "from time import sleep\n",
    "\n",
    "# print(frames[0]['frame'])\n",
    "\n",
    "passenger_no = 0\n",
    "\n",
    "def visualise_frames(frames):\n",
    "    \n",
    "    global passenger_no\n",
    "    passenger_no += 1\n",
    "    \n",
    "    for i, frame in enumerate(frames):\n",
    "        clear_output(wait=True)\n",
    "        print(f\"Dropping off Passenger number :{passenger_no}\")\n",
    "        print(frame['frame'])               # display a popup window (animation)\n",
    "        print(f\"Timestep: {i + 1}\")\n",
    "        print(f\"State: {frame['state']}\")\n",
    "        print(f\"Action: {frame['action']}\")\n",
    "        print(f\"Reward: {frame['reward']}\")\n",
    "        sleep(.4)\n",
    "        \n",
    "    sleep(.6)\n",
    "    \n",
    "\n",
    "# visualise the first 10 episodes as it will take time for 100 episodes\n",
    "\n",
    "for frames in list_of_frames[:10]:   # feel free to change if you want to visualise more \n",
    "    visualise_frames(frames)"
   ]
  },
  {
   "cell_type": "markdown",
   "id": "18924606",
   "metadata": {},
   "source": [
    "### No penalties implies\n",
    "It performed the correct pickup/dropoff actions with 10 different passengers, without any illegal dropoff"
   ]
  },
  {
   "cell_type": "markdown",
   "id": "4cd3f7a4",
   "metadata": {},
   "source": [
    "## Exploitation Vs Exploration \n",
    "##### “Should I go for the decision that seems to be optimal, assuming that my current knowledge is reliable enough? Or should I go for a decision that seems to be sub-optimal for now, making the assumption that my knowledge could be inaccurate and that gathering new information could help me to improve it?”\n",
    "There's a tradeoff between exploration (choosing a random action) and exploitation (choosing actions based on already learned Q-values). We want to prevent the action from always taking the same route, and possibly overfitting, so we'll be introducing another parameter called  \"epsilon\" to cater to this during training.\n",
    "\n",
    "Instead of just selecting the best learned Q-value action, we'll sometimes favor exploring the action space further. Lower epsilon value results in episodes with more penalties (on average) which is obvious because we are exploring and making random decisions."
   ]
  },
  {
   "cell_type": "code",
   "execution_count": null,
   "id": "e8e02e7f",
   "metadata": {},
   "outputs": [],
   "source": []
  }
 ],
 "metadata": {
  "kernelspec": {
   "display_name": "Python 3 (ipykernel)",
   "language": "python",
   "name": "python3"
  },
  "language_info": {
   "codemirror_mode": {
    "name": "ipython",
    "version": 3
   },
   "file_extension": ".py",
   "mimetype": "text/x-python",
   "name": "python",
   "nbconvert_exporter": "python",
   "pygments_lexer": "ipython3",
   "version": "3.10.4"
  }
 },
 "nbformat": 4,
 "nbformat_minor": 5
}
